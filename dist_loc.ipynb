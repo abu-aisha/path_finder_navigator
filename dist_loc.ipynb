{
 "cells": [
  {
   "cell_type": "code",
   "execution_count": 29,
   "metadata": {},
   "outputs": [
    {
     "name": "stdout",
     "output_type": "stream",
     "text": [
      "MyClass\n"
     ]
    }
   ],
   "source": [
    "class MyClass():\n",
    "\n",
    "    instances = []\n",
    "\n",
    "    def __init__(self,name:str,num:int) -> None:\n",
    "        self.name = name\n",
    "        self.num = num\n",
    "\n",
    "        MyClass.instances.append(self)\n",
    "    def __str__(self) -> str:\n",
    "        return f\"{type(self).__name__}\"\n",
    "\n",
    "\n",
    "MyClass(\"my\",8)\n",
    "MyClass(\"name\",9)\n",
    "MyClass(\"is\",7)\n",
    "print(MyClass(\"moshood\",9))\n",
    "\n",
    "# for instance in MyClass.instances:\n",
    "#     print(instance.name)\n",
    "\n"
   ]
  },
  {
   "cell_type": "code",
   "execution_count": 5,
   "metadata": {},
   "outputs": [],
   "source": [
    "from __future__ import annotations \n",
    "from enum import Enum\n",
    "\n",
    "class CapitalType(Enum):\n",
    "    \"\"\"\n",
    "    The different types of capitals (e.g. \"primary\").\n",
    "    \"\"\"\n",
    "    primary = \"primary\"\n",
    "    admin = \"admin\"\n",
    "    minor = \"minor\"\n",
    "    unspecified = \"\"\n",
    "    def __str__(self) -> str:\n",
    "        return self.value\n",
    "\n",
    "\n",
    "\n"
   ]
  },
  {
   "cell_type": "code",
   "execution_count": 6,
   "metadata": {},
   "outputs": [],
   "source": [
    "\n",
    "class Country():\n",
    "    \"\"\"\n",
    "    Represents a country.\n",
    "    \"\"\"\n",
    "    countries = dict() # a dict that associates country names to instances.\n",
    "\n",
    "    \n",
    "\n",
    "    def __init__(self, name: str, iso3: str) -> None:\n",
    "        \"\"\"\n",
    "        Creates an instance with a country name and a country ISO code with 3 characters.\n",
    "        \"\"\"\n",
    "        self.name = name\n",
    "        self.code = iso3\n",
    "        self.cities = []\n",
    "\n",
    "        Country.countries[name] = self\n",
    "       \n",
    "    def _add_city(self, city):\n",
    "        \"\"\"\n",
    "        Adds a city to the country.\n",
    "        \"\"\"\n",
    "        \n",
    "        self.cities.append(city)\n",
    "        \n",
    "    def get_cities(self, *capital_types: list):\n",
    "        \"\"\"\n",
    "        Returns a list of cities of this country.\n",
    "        The argument capital_types can be given to specify a subset of the capital types that must be \n",
    "        returned.\n",
    "        Cities that do not correspond to these capital types are not returned.\n",
    "        If no argument is given, all cities are returned.\n",
    "\n",
    "        \"\"\"\n",
    "        # def mine(name ,*lst):\n",
    "        #     if lst:\n",
    "        #         print(name,lst[0])\n",
    "        #     else:\n",
    "        #         print(name)\n",
    "\n",
    "        # mine('moshood',[2,5,5,6,3])\n",
    "        cities_cap = []\n",
    "        if capital_types:\n",
    "            for city in self.cities:\n",
    "                if city.capital_type in [str(i) for i in   capital_types[0]]:\n",
    "                    cities_cap.append(city)\n",
    "            return cities_cap\n",
    "                \n",
    "        else:\n",
    "            return self.cities\n",
    "            \n",
    "\n",
    "           \n",
    "\n",
    "        \n",
    "    def get_city(self, city_name: str) :\n",
    "        \"\"\"\n",
    "        Returns a city of the given name in this country.\n",
    "        Returns None if there is no city by this name.\n",
    "        If there are multiple cities of the same name, returns an arbitrary one.\n",
    "        \"\"\"\n",
    "        for city in self.cities:\n",
    "            if city.name == city_name:\n",
    "                return city\n",
    "        else:\n",
    "            pass\n",
    "        \n",
    "        \n",
    "    def __str__(self) -> str:\n",
    "\n",
    "        \"\"\"\n",
    "        Returns the name of the country.\n",
    "        \"\"\"\n",
    "        return self.name\n",
    "\n",
    "\n",
    "\n",
    "\n"
   ]
  },
  {
   "cell_type": "code",
   "execution_count": 7,
   "metadata": {},
   "outputs": [
    {
     "name": "stdout",
     "output_type": "stream",
     "text": [
      "The distance between Melbourne (AUS) and Sydney (AUS) is 713km\n",
      "Melbourne (AUS) is a admin capital of Australia\n",
      "Canberra (AUS) is a primary capital of Australia\n",
      "Sydney (AUS) is a admin capital of Australia\n"
     ]
    }
   ],
   "source": [
    "from geopy.distance import great_circle\n",
    "\n",
    "\n",
    "class City():\n",
    "    \"\"\"\n",
    "    Represents a city.\n",
    "    \"\"\"\n",
    "    cities = dict() # a dict that associates city IDs to instances.\n",
    "    def __init__(self, name: str, latitude: str, longitude: str, country: str, capital_type: str, city_id: str) -> None:\n",
    "        \"\"\"\n",
    "        Initialises a city with the given data.\n",
    "        \"\"\"\n",
    "        self.name = name\n",
    "        self.latitude = latitude\n",
    "        self.longitude = longitude\n",
    "        self.country = country\n",
    "        self.capital_type = capital_type\n",
    "        self.city_id = city_id\n",
    "\n",
    "        City.cities[city_id] = self\n",
    "\n",
    "    def distance(self, other_city) -> int:\n",
    "        \"\"\"\n",
    "        Returns the distance in kilometers between two cities using the great circle method,\n",
    "        rounded up to an integer.\n",
    "        \"\"\"\n",
    "        \n",
    "        maincity = (float(self.latitude),float(self.longitude))\n",
    "        othercity = (float(other_city.latitude), float(other_city.longitude))\n",
    "\n",
    "        \n",
    "\n",
    "        dist = great_circle(maincity,othercity).km\n",
    "\n",
    "        return int(dist)\n",
    "\n",
    "        \n",
    "    def __str__(self) -> str:\n",
    "        \"\"\"\n",
    "        Returns the name of the city and the country ISO3 code in parentheses.\n",
    "        For example, \"Melbourne (AUS)\".\n",
    "\n",
    "        \"\"\"\n",
    "        \n",
    "        country = Country.countries[self.country]\n",
    "\n",
    "        country_code = country.code\n",
    " \n",
    "        city = self.name\n",
    "\n",
    "        return f\"{city} ({country_code})\"\n",
    "        \n",
    "        \n",
    "\n",
    "    \n",
    "def create_example_countries_and_cities() -> None:\n",
    "    \"\"\"\n",
    "    Creates a few Countries and Cities for testing purposes.\n",
    "    \"\"\"\n",
    "    australia = Country(\"Australia\", \"AUS\")\n",
    "    melbourne = City(\"Melbourne\", \"-37.8136\", \"144.9631\", \"Australia\", \"admin\", \"1036533631\")\n",
    "    australia._add_city(melbourne)\n",
    "    canberra = City(\"Canberra\", \"-35.2931\", \"149.1269\", \"Australia\", \"primary\", \"1036142029\")\n",
    "    australia._add_city(canberra)\n",
    "    sydney = City(\"Sydney\", \"-33.865\", \"151.2094\", \"Australia\", \"admin\", \"1036074917\")\n",
    "    australia._add_city(sydney)\n",
    "\n",
    "    \n",
    "    japan = Country (\"Japan\", \"JPN\")\n",
    "    tokyo = City(\"Tokyo\", \"35.6839\", \"139.7744\", \"Japan\", \"primary\", \"1392685764\")\n",
    "    japan._add_city(tokyo)\n",
    "    \n",
    "def test_example_countries_and_cities() -> None:\n",
    "    \"\"\"\n",
    "    Assuming the correct cities and countries have been created, runs a small test.\n",
    "    \"\"\"\n",
    "    australia = Country.countries['Australia']\n",
    "    canberra = australia.get_city(\"Canberra\")\n",
    "    melbourne = australia.get_city(\"Melbourne\")\n",
    "    sydney = australia.get_city(\"Sydney\")\n",
    "    print(\"The distance between {} and {} is {}km\".format(melbourne, sydney, \n",
    "    melbourne.distance(sydney)))\n",
    "    for city in australia.get_cities([CapitalType.admin, CapitalType.primary]):\n",
    "        print(\"{} is a {} capital of {}\".format(city, city.capital_type, city.country))\n",
    "\n",
    "if __name__ == \"__main__\":\n",
    "    \n",
    "    create_example_countries_and_cities()\n",
    "    test_example_countries_and_cities()\n",
    "\n",
    "\n"
   ]
  },
  {
   "cell_type": "code",
   "execution_count": 8,
   "metadata": {},
   "outputs": [
    {
     "data": {
      "text/plain": [
       "{'1036533631': <__main__.City at 0x175d4308ac8>,\n",
       " '1036142029': <__main__.City at 0x175d4308a88>,\n",
       " '1036074917': <__main__.City at 0x175d43089c8>,\n",
       " '1392685764': <__main__.City at 0x175d4308b08>}"
      ]
     },
     "execution_count": 8,
     "metadata": {},
     "output_type": "execute_result"
    }
   ],
   "source": [
    "\n",
    "City.cities\n"
   ]
  },
  {
   "cell_type": "code",
   "execution_count": 9,
   "metadata": {},
   "outputs": [
    {
     "name": "stdout",
     "output_type": "stream",
     "text": [
      "The distance between Melbourne (AUS) and Sydney (AUS) is 713km\n",
      "Melbourne (AUS) is a admin capital of Australia\n",
      "Canberra (AUS) is a primary capital of Australia\n",
      "Sydney (AUS) is a admin capital of Australia\n"
     ]
    }
   ],
   "source": [
    "create_example_countries_and_cities()\n",
    "test_example_countries_and_cities()"
   ]
  },
  {
   "cell_type": "code",
   "execution_count": 10,
   "metadata": {},
   "outputs": [
    {
     "name": "stdout",
     "output_type": "stream",
     "text": [
      "Australia\n",
      "Japan\n"
     ]
    }
   ],
   "source": [
    "for i in Country.countries:\n",
    "    print(i)"
   ]
  },
  {
   "cell_type": "code",
   "execution_count": 11,
   "metadata": {},
   "outputs": [
    {
     "name": "stdout",
     "output_type": "stream",
     "text": [
      "Australia\n"
     ]
    }
   ],
   "source": [
    "print(Country.countries['Australia'])"
   ]
  },
  {
   "cell_type": "code",
   "execution_count": 12,
   "metadata": {},
   "outputs": [
    {
     "data": {
      "text/plain": [
       "{'1036533631': <__main__.City at 0x175d37dd088>,\n",
       " '1036142029': <__main__.City at 0x175d37dd7c8>,\n",
       " '1036074917': <__main__.City at 0x175d40cb408>,\n",
       " '1392685764': <__main__.City at 0x175d40cb908>}"
      ]
     },
     "execution_count": 12,
     "metadata": {},
     "output_type": "execute_result"
    }
   ],
   "source": [
    "City.cities"
   ]
  },
  {
   "cell_type": "code",
   "execution_count": null,
   "metadata": {},
   "outputs": [
    {
     "name": "stdout",
     "output_type": "stream",
     "text": [
      "The distance between Melbourne (AUS) and Sydney (AUS) is 713km\n",
      "Sydney (AUS) is a admin capital of Australia\n",
      "Melbourne (AUS) is a admin capital of Australia\n",
      "Brisbane (AUS) is a admin capital of Australia\n",
      "Perth (AUS) is a admin capital of Australia\n",
      "Adelaide (AUS) is a admin capital of Australia\n",
      "Canberra (AUS) is a primary capital of Australia\n"
     ]
    }
   ],
   "source": [
    "import csv\n",
    "\n",
    "from locations import City, Country, test_example_countries_and_cities\n",
    "\n",
    "def create_cities_countries_from_CSV(path_to_csv: str) -> None:\n",
    "    \"\"\"\n",
    "    Reads a CSV file given its path and creates instances of City and Country for each line.\n",
    "    \"\"\"\n",
    "    with open(path_to_csv,newline=\"\",encoding=\"utf8\") as f:\n",
    "        reader = csv.DictReader(f)\n",
    "        # ctry_lst = []\n",
    "        ctry_dict_lst = []\n",
    "        ctry_dict = dict()\n",
    "        data_dict = {}\n",
    "        x=0\n",
    "        for row in reader:\n",
    "            \n",
    "            if row[\"country\"] not in ctry_dict_lst:\n",
    "                ctry_dict_lst.append(row[\"country\"])\n",
    "                ctry_dict[row[\"country\"]] = row[\"iso3\"]\n",
    "                data_dict[row[\"country\"]] = {row[\"city_ascii\"]:[row[\"lat\"],row[\"lng\"],row[\"capital\"],row[\"id\"]]}\n",
    "            else:\n",
    "                data_dict[row[\"country\"]][row[\"city_ascii\"]] = [row[\"lat\"],row[\"lng\"],row[\"capital\"],row[\"id\"]]\n",
    "    for country in data_dict:\n",
    "   \n",
    "        country_obj = Country(country,ctry_dict[country])\n",
    "        cities = data_dict[country]\n",
    "        for city in cities:\n",
    "            city_data = cities[city]\n",
    "            city_obj = City(city,city_data[0],city_data[1],country,city_data[2],city_data[3])\n",
    "            country_obj._add_city(city_obj)\n",
    "\n",
    "\n",
    "if __name__ == \"__main__\":\n",
    "    create_cities_countries_from_CSV(\"worldcities_truncated.csv\")\n",
    "    test_example_countries_and_cities()\n",
    "\n",
    "\n",
    "            # print(i[\"country\"])\n",
    "        \n",
    "  "
   ]
  },
  {
   "cell_type": "code",
   "execution_count": 14,
   "metadata": {},
   "outputs": [
    {
     "name": "stdout",
     "output_type": "stream",
     "text": [
      "Travelling from Melbourne (AUS) to Canberra (AUS) will take 2 hours with CrappyCrepeCar (200 km/h)\n",
      "Travelling from Tokyo (JPN) to Canberra (AUS) will take 39 hours with CrappyCrepeCar (200 km/h)\n",
      "Travelling from Tokyo (JPN) to Melbourne (AUS) will take 40 hours with CrappyCrepeCar (200 km/h)\n",
      "Travelling from Melbourne (AUS) to Canberra (AUS) will take 4 hours with DiplomacyDonutDinghy (100 km/h | 500 km/h)\n",
      "Travelling from Tokyo (JPN) to Canberra (AUS) will take 15 hours with DiplomacyDonutDinghy (100 km/h | 500 km/h)\n",
      "Travelling from Tokyo (JPN) to Melbourne (AUS) will take inf hours with DiplomacyDonutDinghy (100 km/h | 500 km/h)\n",
      "Travelling from Melbourne (AUS) to Canberra (AUS) will take 155 hours with TeleportingTarteTrolley (3 h | 2000 km/h)\n",
      "Travelling from Tokyo (JPN) to Canberra (AUS) will take inf hours with TeleportingTarteTrolley (3 h | 2000 km/h)\n",
      "Travelling from Tokyo (JPN) to Melbourne (AUS) will take inf hours with TeleportingTarteTrolley (3 h | 2000 km/h)\n"
     ]
    }
   ],
   "source": [
    "\n",
    "from abc import ABC, abstractmethod\n",
    "import math\n",
    "\n",
    "from locations import CapitalType, City, Country\n",
    "from locations import create_example_countries_and_cities\n",
    "\n",
    "class Vehicle(ABC):\n",
    "    \"\"\"\n",
    "    A Vehicle defined by a mode of transportation, which results in a specific duration.\n",
    "    \"\"\"\n",
    "\n",
    "    @abstractmethod\n",
    "    def compute_travel_time(self, departure: City, arrival: City) -> float:\n",
    "        \"\"\"\n",
    "        Returns the travel duration of a direct trip from one city\n",
    "        to another, in hours, rounded up to an integer.\n",
    "        Returns math.inf if the travel is not possible.\n",
    "        \"\"\"\n",
    "        pass\n",
    "\n",
    "    @abstractmethod\n",
    "    def __str__(self) -> str:\n",
    "        \"\"\"\n",
    "        Returns the class name and the parameters of the vehicle in parentheses.\n",
    "        \"\"\"\n",
    "        pass\n",
    "\n",
    "\n",
    "class CrappyCrepeCar(Vehicle):\n",
    "    \"\"\"\n",
    "    A type of vehicle that:\n",
    "        - Can go from any city to any other at a given speed.\n",
    "    \"\"\"\n",
    "\n",
    "    def __init__(self, speed: int) -> None:\n",
    "        \"\"\"\n",
    "        Creates a CrappyCrepeCar with a given speed in km/h.\n",
    "        \"\"\"\n",
    "        self.speed = speed\n",
    "\n",
    "    def compute_travel_time(self, departure: City, arrival: City) -> float:\n",
    "        \"\"\"\n",
    "        Returns the travel duration of a direct trip from one city\n",
    "        to another, in hours, rounded up to an integer.\n",
    "        \"\"\"\n",
    "        dist = departure.distance(arrival)\n",
    "        time = dist/self.speed\n",
    "\n",
    "        return int(time)\n",
    "\n",
    "    def __str__(self) -> str:\n",
    "        \"\"\"\n",
    "        Returns the class name and the parameters of the vehicle in parentheses.\n",
    "        For example \"CrappyCrepeCar (100 km/h)\"\n",
    "        \"\"\"\n",
    "        return f\"{type(self).__name__} ({self.speed} km/h)\"\n",
    "\n",
    "\n",
    "class DiplomacyDonutDinghy(Vehicle):\n",
    "    \"\"\"\n",
    "    A type of vehicle that:\n",
    "        - Can travel between any two cities in the same country.\n",
    "        - Can travel between two cities in different countries only if they are both \"primary\" capitals.\n",
    "        - Has different speed for the two cases.\n",
    "    \"\"\"\n",
    "\n",
    "    def __init__(self, in_country_speed: int, between_primary_speed: int) -> None:\n",
    "        \"\"\"\n",
    "        Creates a DiplomacyDonutDinghy with two given speeds in km/h:\n",
    "            - one speed for two cities in the same country.\n",
    "            - one speed between two primary cities.\n",
    "        \"\"\"\n",
    "        self.incountryspd = in_country_speed\n",
    "        self.btwcountryspd = between_primary_speed\n",
    "\n",
    "    def compute_travel_time(self, departure: City, arrival: City) -> float:\n",
    "        \"\"\"\n",
    "        Returns the travel duration of a direct trip from one city\n",
    "        to another, in hours, rounded up to an integer.\n",
    "        Returns math.inf if the travel is not possible.\n",
    "        \"\"\"\n",
    "\n",
    "        \n",
    "        if departure.country == arrival.country:\n",
    "            dist = departure.distance(arrival)\n",
    "            time = dist/self.incountryspd\n",
    "\n",
    "            return int(time)\n",
    "        elif departure.capital_type == arrival.capital_type == \"primary\":\n",
    "            dist = departure.distance(arrival)\n",
    "            time = dist/self.btwcountryspd\n",
    "\n",
    "            return int(time)\n",
    "        else:\n",
    "            return math.inf\n",
    "\n",
    "    def __str__(self) -> str:\n",
    "        \"\"\"\n",
    "        Returns the class name and the parameters of the vehicle in parentheses.\n",
    "        For example \"DiplomacyDonutDinghy (100 km/h | 200 km/h)\"\n",
    "        \"\"\"\n",
    "        return f\"{type(self).__name__} ({self.incountryspd} km/h | {self.btwcountryspd} km/h)\"\n",
    "\n",
    "\n",
    "class TeleportingTarteTrolley(Vehicle):\n",
    "    \"\"\"\n",
    "    A type of vehicle that:\n",
    "        - Can travel between any two cities if the distance is less than a given maximum distance.\n",
    "        - Travels in fixed time between two cities within the maximum distance.\n",
    "    \"\"\"\n",
    "\n",
    "    def __init__(self, travel_time:int, max_distance: int) -> None:\n",
    "        \"\"\"\n",
    "        Creates a TarteTruck with a distance limit in km.\n",
    "        \"\"\"\n",
    "        self.ttime = travel_time\n",
    "        self.max_dist = max_distance\n",
    "\n",
    "    def compute_travel_time(self, departure: City, arrival: City) -> float:\n",
    "        \"\"\"\n",
    "        Returns the travel duration of a direct trip from one city\n",
    "        to another, in hours, rounded up to an integer.\n",
    "        Returns math.inf if the travel is not possible.\n",
    "        \"\"\"\n",
    "        dist = departure.distance(arrival)\n",
    "        if dist < self.max_dist:\n",
    "            time = dist/self.ttime\n",
    "            return int(time)\n",
    "        else:\n",
    "            return math.inf\n",
    "\n",
    "    def __str__(self) -> str:\n",
    "        \"\"\"\n",
    "        Returns the class name and the parameters of the vehicle in parentheses.\n",
    "        For example \"TeleportingTarteTrolley (5 h | 1000 km)\"\n",
    "        \"\"\"\n",
    "        return f\"{type(self).__name__} ({self.ttime} h | {self.max_dist} km/h)\"\n",
    "\n",
    "\n",
    "def create_example_vehicles() -> list[Vehicle]:\n",
    "    \"\"\"\n",
    "    Creates 3 examples of vehicles.\n",
    "    \"\"\"\n",
    "    return [CrappyCrepeCar(200), DiplomacyDonutDinghy(100, 500), TeleportingTarteTrolley(3, 2000)]\n",
    "\n",
    "\n",
    "if __name__ == \"__main__\":\n",
    "    create_example_countries_and_cities()\n",
    "\n",
    "    australia = Country.countries[\"Australia\"]\n",
    "    melbourne = australia.get_city(\"Melbourne\")\n",
    "    canberra = australia.get_city(\"Canberra\")\n",
    "    japan = Country.countries[\"Japan\"]\n",
    "    tokyo = japan.get_city(\"Tokyo\")\n",
    "\n",
    "    vehicles = create_example_vehicles()\n",
    "\n",
    "    for vehicle in vehicles:\n",
    "        for from_city, to_city in [(melbourne, canberra), (tokyo, canberra), (tokyo, melbourne)]:\n",
    "            print(\"Travelling from {} to {} will take {} hours with {}\".format(from_city, to_city, vehicle.compute_travel_time(from_city, to_city), vehicle))\n",
    "\n",
    "\n",
    "\n",
    "\n",
    "\n"
   ]
  },
  {
   "cell_type": "code",
   "execution_count": 1,
   "metadata": {},
   "outputs": [
    {
     "name": "stdout",
     "output_type": "stream",
     "text": [
      "The trip Melbourne->Sydney will take 474 hours with DiplomacyDonutDinghy (100 km/h | 500 km/h)\n",
      "The trip Canberra->Tokyo will take inf hours with CrappyCrepeCar (200 km/h)\n",
      "The trip Melbourne->Canberra->Tokyo will take inf hours with CrappyCrepeCar (200 km/h)\n",
      "The trip Canberra->Melbourne->Tokyo will take inf hours with None\n"
     ]
    }
   ],
   "source": [
    "import math\n",
    "from vehicles import Vehicle, CrappyCrepeCar, DiplomacyDonutDinghy, TeleportingTarteTrolley\n",
    "from vehicles import create_example_vehicles\n",
    "from locations import City, Country\n",
    "from locations import create_example_countries_and_cities\n",
    "\n",
    "class Trip():\n",
    "    \"\"\"\n",
    "    Represents a sequence of cities.\n",
    "    \"\"\"\n",
    "    \n",
    "\n",
    "    def __init__(self, departure: City) -> None:\n",
    "        \"\"\"\n",
    "        Initialises a Trip with a departure city.\n",
    "        \"\"\"\n",
    "        self.dep_city = departure\n",
    "        self.cities = []\n",
    "        self.cities.append(self.dep_city)\n",
    "\n",
    "    def add_next_city(self, city: City) -> None:\n",
    "        \"\"\"\n",
    "        Adds the next city to this trip.\n",
    "        \"\"\"\n",
    "        self.next_city = city\n",
    "        self.cities.append(self.next_city)\n",
    "\n",
    "    def total_travel_time(self, vehicle: Vehicle) -> float:\n",
    "        \"\"\"\n",
    "        Returns a travel duration for the entire trip for a given vehicle.\n",
    "        Returns math.inf if any leg (i.e. part) of the trip is not possible.\n",
    "        \"\"\"\n",
    "        ttime = 0\n",
    "\n",
    "        for i  in range(len(self.cities)-1):    \n",
    "            ttime = vehicle.compute_travel_time(self.cities[i],self.cities[i+1])\n",
    "\n",
    "            if ttime == math.inf:\n",
    "                return ttime\n",
    "            else:\n",
    "                ttime += ttime\n",
    "        return ttime\n",
    "\n",
    "    def find_fastest_vehicle(self, vehicles: list) -> float:\n",
    "        \"\"\"\n",
    "        Returns the Vehicle for which this trip is fastest, and the duration of the trip.\n",
    "        If there is a tie, return the first vehicle in the list.\n",
    "        If the trip is not possible for any of the vehicle, return (None, math.inf).\n",
    "        \"\"\"\n",
    "        vehicle = vehicles[0] \n",
    "        x = 0\n",
    "        for i  in range(len(vehicles)-1):\n",
    "             \n",
    "            \n",
    "            ttime = self.total_travel_time(vehicle)\n",
    "            ttime2 = self.total_travel_time(vehicles[i+1])\n",
    "            if ttime2 != math.inf: \n",
    "                if ttime2 > ttime:\n",
    "                    vehicle = vehicles[i] \n",
    "            else:\n",
    "                x +=1\n",
    "                if x == len(vehicles) - 1:\n",
    "                    return [None, math.inf] \n",
    "        return [vehicle, ttime2] \n",
    "            \n",
    "\n",
    "\n",
    "\n",
    "    def __str__(self) -> str:\n",
    "        \"\"\"\n",
    "        Returns a representation of the trip as a sequence of cities:\n",
    "        City1 -> City2 -> City3 -> ... -> CityX\n",
    "        \"\"\"\n",
    "        return \"->\".join([i.name for i in self.cities]) \n",
    "\n",
    "\n",
    "def create_example_trips() -> list:\n",
    "    \"\"\"\n",
    "    Creates examples of trips.\n",
    "    \"\"\"\n",
    "\n",
    "    #first we create the cities and countries\n",
    "    create_example_countries_and_cities()\n",
    "\n",
    "    australia = Country.countries[\"Australia\"]\n",
    "    melbourne = australia.get_city(\"Melbourne\")\n",
    "    sydney = australia.get_city(\"Sydney\")\n",
    "    canberra = australia.get_city(\"Canberra\")\n",
    "    japan = Country.countries[\"Japan\"]\n",
    "    tokyo = japan.get_city(\"Tokyo\")\n",
    "\n",
    "    #then we create trips\n",
    "    trips = []\n",
    "\n",
    "    for cities in [(melbourne, sydney), (canberra, tokyo), (melbourne, canberra, tokyo), (canberra, melbourne, tokyo)]:\n",
    "        trip = Trip(cities[0])\n",
    "        for city in cities[1:]:\n",
    "            trip.add_next_city(city)\n",
    "\n",
    "        trips.append(trip)\n",
    "\n",
    "    return trips\n",
    "\n",
    "if __name__ == \"__main__\":\n",
    "    vehicles = create_example_vehicles()\n",
    "    trips = create_example_trips()\n",
    "\n",
    "    for trip in trips:\n",
    "        vehicle, duration = trip.find_fastest_vehicle(vehicles)\n",
    "        print(\"The trip {} will take {} hours with {}\".format(trip, duration, vehicle))\n",
    "\n",
    "\n",
    "\n",
    "\n",
    "\n",
    "\n",
    "\n",
    "\n"
   ]
  },
  {
   "cell_type": "code",
   "execution_count": null,
   "metadata": {},
   "outputs": [],
   "source": [
    "\n",
    "if __name__ == \"__main__\":\n",
    "    vehicles = create_example_vehicles()\n",
    "    trips = create_example_trips()\n",
    "    for trip in trips:\n",
    "        vehicle, duration = trip.find_fastest_vehicle(vehicles)\n",
    "        print(\"The trip {} will take {} hours with {}\".format(trip, duration, vehicle))\n",
    "\n",
    "\n",
    "\n"
   ]
  },
  {
   "cell_type": "code",
   "execution_count": 33,
   "metadata": {},
   "outputs": [
    {
     "name": "stdout",
     "output_type": "stream",
     "text": [
      "The shortest path for CrappyCrepeCar (200 km/h) from Melbourne (AUS) to Tokyo (JPN) is Melbourne->Adelaide->Malang->Cilacap->Bandung->Jakarta->Bandar Lampung->Singapore->Can Tho->Bien Hoa->Quang Ha->Haikou->Zhanjiang->Yangjiang->Guangzhou->Shaoguan->Ganzhou->Ji'an->Nanchang->Jiujiang->Chizhou->Chuzhou->Suqian->Rizhao->Qingdao->Yantai->Dalian->Zhuanghe->Dandong->Pyongyang->Seoul->Daejeon->Ulsan->Kyoto->Hamamatsu->Yokohama->Tokyo\n",
      "The shortest path for DiplomacyDonutDinghy (100 km/h | 500 km/h) from Melbourne (AUS) to Tokyo (JPN) is Melbourne->Canberra->Port Moresby->Capitol Hill->Tokyo\n",
      "The shortest path for TeleportingTarteTrolley (3 h | 2000 km/h) from Melbourne (AUS) to Tokyo (JPN) is Melbourne->Sydney->Noumea->Honiara->Palikir->Hagta->Ngerulmud->Antipolo->Taizhou->Kobe->Osaka->Nagoya->Setagaya->Tokyo\n"
     ]
    }
   ],
   "source": [
    "\n",
    "\n",
    "import city_country_csv_reader\n",
    "\n",
    "import networkx as nx\n",
    "\n",
    " \n",
    "\n",
    "from locations import City, Country\n",
    "from trip import Trip\n",
    "from vehicles import Vehicle, create_example_vehicles\n",
    "\n",
    "\n",
    "def find_shortest_path(vehicle: Vehicle, from_city: City, to_city: City) -> Trip:\n",
    "    \n",
    "    \"\"\"\n",
    "    Returns a shortest path between two cities for a given vehicle,\n",
    "    or None if there is no path.\n",
    "    \"\"\"\n",
    "    \n",
    "#     city_country_csv_reader.create_cities_countries_from_CSV(\"worldcities_truncated.csv\")                             \n",
    " \n",
    "    G  = nx.Graph()\n",
    "    \n",
    "    for i in City.cities.values():\n",
    "\n",
    "        G.add_node(i)\n",
    "        for j in City.cities.values():\n",
    "            if j != i:\n",
    "                G.add_edge(i,j,weight = vehicle.compute_travel_time(i,j) )                       \n",
    "\n",
    "\n",
    "    \n",
    "    paths = nx.shortest_path(G,from_city ,to_city , weight=\"weight\" , method='dijkstra')                   \n",
    "\n",
    "    if len(paths) > 0 :\n",
    "        for m in range(len(paths)):\n",
    "            if m ==0:\n",
    "                trip = Trip(paths[m])\n",
    "            else:\n",
    "                trip.add_next_city(paths[m])\n",
    "        return trip\n",
    "    else:\n",
    "        return None\n",
    "\n",
    "\n",
    "\n",
    "\n",
    "\n",
    "\n",
    "\n",
    "\n",
    "if __name__ == \"__main__\":\n",
    "    city_country_csv_reader.create_cities_countries_from_CSV(\"worldcities_truncated.csv\")\n",
    "\n",
    "    vehicles = create_example_vehicles()\n",
    "\n",
    "    australia = Country.countries[\"Australia\"]\n",
    "    melbourne = australia.get_city(\"Melbourne\")\n",
    "    japan = Country.countries[\"Japan\"]\n",
    "    tokyo = japan.get_city(\"Tokyo\")\n",
    "\n",
    "    for vehicle in vehicles:\n",
    "        print(\"The shortest path for {} from {} to {} is {}\".format(vehicle, melbourne, tokyo, find_shortest_path(vehicle, melbourne, tokyo)))\n",
    "\n",
    "\n",
    "\n",
    "\n",
    "\n"
   ]
  },
  {
   "cell_type": "code",
   "execution_count": 8,
   "metadata": {},
   "outputs": [
    {
     "data": {
      "image/png": "[encoded data removed]",
      "text/plain": [
       "<Figure size 432x288 with 1 Axes>"
      ]
     },
     "metadata": {},
     "output_type": "display_data"
    }
   ],
   "source": [
    "\n",
    "import city_country_csv_reader\n",
    "from locations import create_example_countries_and_cities\n",
    "from trip import Trip, create_example_trips\n",
    "from mpl_toolkits.basemap import Basemap\n",
    "import matplotlib.pyplot as plt\n",
    "%matplotlib inline\n",
    "\n",
    "def plot_trip(trip: Trip, projection = 'robin', line_width=2, colour='b') -> None:\n",
    "    \"\"\"\n",
    "    Plots a trip on a map and writes it to a file.\n",
    "    Ensures a size of at least 50 degrees in each direction.\n",
    "    Ensures the cities are not on the edge of the map by padding by 5 degrees.\n",
    "    The name of the file is map_city1_city2_city3_..._cityX.png.\n",
    "    \"\"\"\n",
    "\n",
    "    \n",
    "    m = Basemap(projection=projection,lon_0=9)\n",
    "    name_lst = []\n",
    "    cities = trip.cities\n",
    "    longs = []\n",
    "    lats = []\n",
    "    for city in cities:\n",
    "        name_lst.append(city.name)\n",
    "        xpt, ypt = m(float(city.longitude), float(city.latitude))\n",
    "        longs.append(xpt)\n",
    "        lats.append(ypt)\n",
    "    \n",
    "    m.drawcoastlines()\n",
    "    name = f\"{'_'.join(name_lst)}.png\"\n",
    "    m.plot(longs, lats, color=colour, linewidth=line_width)#, label='Flight 98')\n",
    "    plt.savefig(name)\n",
    "    \n",
    "\n",
    "\n",
    "if __name__ == \"__main__\":\n",
    "    city_country_csv_reader.create_cities_countries_from_CSV(\"worldcities_truncated.csv\")\n",
    "\n",
    "    create_example_countries_and_cities()\n",
    "\n",
    "    trips = create_example_trips()\n",
    "\n",
    "    for trip in trips:\n",
    "        plot_trip(trip)\n",
    "\n",
    "\n",
    "\n",
    "\n",
    "\n",
    "\n",
    "\n",
    "\n",
    "\n"
   ]
  },
  {
   "cell_type": "code",
   "execution_count": 1,
   "metadata": {},
   "outputs": [
    {
     "name": "stdout",
     "output_type": "stream",
     "text": [
      "moshood\n"
     ]
    }
   ],
   "source": [
    "from vehicles import create_example_vehicles\n",
    "import   city_country_csv_reader\n",
    "\n",
    "\n",
    "city_country_csv_reader.create_cities_countries_from_CSV(\"worldcities_truncated.csv\")\n",
    "\n",
    "vehi_input = input(\"How do you want to create your cars:\\nEnter\")\n",
    "\n",
    "print(vehi_input)\n",
    "\n",
    "# vehicles =create_example_vehicles() \n",
    "\n",
    "# custom_vehicles =[CrappyCrepeCar(200), DiplomacyDonutDinghy(100, 500), TeleportingTarteTrolley(3, 2000)]\n",
    "\n",
    "\n",
    "\n",
    "# trips = []\n",
    "\n",
    "# for cities in [(canberra, melbourne, tokyo)]:\n",
    "#     trip = Trip(cities[0])\n",
    "#     for city in cities[1:]:\n",
    "#         trip.add_next_city(city)\n",
    "\n",
    "#         trips.append(trip)\n",
    "\n",
    "\n",
    "\n",
    "\n"
   ]
  },
  {
   "cell_type": "code",
   "execution_count": 2,
   "metadata": {},
   "outputs": [
    {
     "data": {
      "text/plain": [
       "False"
      ]
     },
     "execution_count": 2,
     "metadata": {},
     "output_type": "execute_result"
    }
   ],
   "source": [
    "\n",
    "\"4,67,8\".isdigit()\n",
    "\n"
   ]
  },
  {
   "cell_type": "code",
   "execution_count": 12,
   "metadata": {},
   "outputs": [
    {
     "data": {
      "text/plain": [
       "3"
      ]
     },
     "execution_count": 12,
     "metadata": {},
     "output_type": "execute_result"
    }
   ],
   "source": [
    "\n",
    "k =  [4,6,7,8,8]\n",
    "k.sort()\n",
    "k.index(max(k))\n",
    "\n"
   ]
  },
  {
   "cell_type": "code",
   "execution_count": 2,
   "metadata": {},
   "outputs": [
    {
     "data": {
      "text/plain": [
       "<matplotlib.collections.LineCollection at 0x25ee96e9688>"
      ]
     },
     "execution_count": 2,
     "metadata": {},
     "output_type": "execute_result"
    },
    {
     "data": {
      "image/png": "[encoded data removed]",
      "text/plain": [
       "<Figure size 432x288 with 1 Axes>"
      ]
     },
     "metadata": {},
     "output_type": "display_data"
    }
   ],
   "source": [
    "\n",
    "\n",
    "from mpl_toolkits.basemap import Basemap\n",
    "import matplotlib.pyplot as plt\n",
    "%matplotlib inline\n",
    "m = Basemap(projection='mill',\n",
    "            # llcrnrlat = 25,\n",
    "            # llcrnrlon = -130,\n",
    "            # urcrnrlat = 50,\n",
    "            # urcrnrlon = -60,\n",
    "            # resolution='l'\n",
    "            )\n",
    "\n",
    "m.drawcoastlines()\n",
    "# m.drawcountries(linewidth=2)\n",
    "# m.drawstates(color='b')"
   ]
  },
  {
   "cell_type": "code",
   "execution_count": null,
   "metadata": {},
   "outputs": [],
   "source": []
  },
  {
   "cell_type": "code",
   "execution_count": null,
   "metadata": {},
   "outputs": [],
   "source": []
  },
  {
   "cell_type": "code",
   "execution_count": null,
   "metadata": {},
   "outputs": [],
   "source": [
    "\n",
    "city_country_csv_reader.create_cities_countries_from_CSV(\"worldcities_truncated.csv\")                             \n",
    " #   test_example_countries_and_cities()\n",
    "\n",
    "\n",
    "\n",
    "\n"
   ]
  },
  {
   "cell_type": "code",
   "execution_count": 25,
   "metadata": {},
   "outputs": [],
   "source": [
    "\n",
    "# City.cities.values() \n",
    "\n",
    "\n"
   ]
  },
  {
   "cell_type": "code",
   "execution_count": 11,
   "metadata": {},
   "outputs": [],
   "source": [
    "\n",
    "from vehicles import CrappyCrepeCar \n",
    "\n",
    "vehicle = CrappyCrepeCar(200) \n",
    "\n",
    "\n"
   ]
  },
  {
   "cell_type": "code",
   "execution_count": null,
   "metadata": {},
   "outputs": [],
   "source": []
  },
  {
   "cell_type": "code",
   "execution_count": 7,
   "metadata": {},
   "outputs": [],
   "source": [
    "\n",
    "import networkx as nx\n",
    "\n",
    "G  = nx.Graph() \n"
   ]
  },
  {
   "cell_type": "code",
   "execution_count": 13,
   "metadata": {},
   "outputs": [],
   "source": [
    "\n",
    "for i in City.cities.values():\n",
    "    \n",
    "    G.add_node(i)\n",
    "    for j in City.cities.values():\n",
    "        if j != i:\n",
    "            G.add_edge(i,j,weight = vehicle.compute_travel_time(i,j) )                       \n",
    "\n",
    "\n"
   ]
  },
  {
   "cell_type": "code",
   "execution_count": 18,
   "metadata": {},
   "outputs": [
    {
     "data": {
      "text/plain": [
       "13"
      ]
     },
     "execution_count": 18,
     "metadata": {},
     "output_type": "execute_result"
    }
   ],
   "source": [
    "cities_v = list(City.cities.values()) \n",
    "\n",
    "\n",
    "G[cities_v[4]][cities_v[100]][\"weight\"] \n",
    "\n"
   ]
  },
  {
   "cell_type": "code",
   "execution_count": 23,
   "metadata": {},
   "outputs": [],
   "source": [
    "\n",
    "paths = nx.shortest_path(G,cities_v[6] ,cities_v[100] , weight=None, method='dijkstra')                   \n",
    "\n",
    "\n"
   ]
  },
  {
   "cell_type": "code",
   "execution_count": 24,
   "metadata": {},
   "outputs": [
    {
     "data": {
      "text/plain": [
       "['Kawasaki (JPN)', 'Cebu City (PHL)']"
      ]
     },
     "execution_count": 24,
     "metadata": {},
     "output_type": "execute_result"
    }
   ],
   "source": []
  },
  {
   "cell_type": "code",
   "execution_count": 11,
   "metadata": {},
   "outputs": [
    {
     "name": "stdout",
     "output_type": "stream",
     "text": [
      "2\n"
     ]
    }
   ],
   "source": [
    "import math\n",
    "\n",
    "if math.inf != 2 :\n",
    "    print(2)\n",
    "else:\n",
    "    pass\n",
    "\n",
    "\n"
   ]
  },
  {
   "cell_type": "code",
   "execution_count": null,
   "metadata": {},
   "outputs": [],
   "source": []
  },
  {
   "cell_type": "code",
   "execution_count": null,
   "metadata": {},
   "outputs": [
    {
     "name": "stdout",
     "output_type": "stream",
     "text": [
      "moshood [2, 5, 5, 6, 3]\n"
     ]
    }
   ],
   "source": [
    "def mine(name ,*lst):\n",
    "    if lst:\n",
    "        print(name,lst[0])\n",
    "    else:\n",
    "        print(name)\n",
    "\n",
    "mine('moshood',[2,5,5,6,3])"
   ]
  },
  {
   "cell_type": "code",
   "execution_count": null,
   "metadata": {},
   "outputs": [],
   "source": [
    "# (4)  Create the following file of products\n",
    "\n",
    "# The fields in this example are\n",
    "# product_code,product_name,price\n",
    "# Write a program that accepts as input\n",
    "# The product code\n",
    "# The quantity purchased\n",
    "# The outputs\n",
    "# The product name\n",
    "# The price\n",
    "# The total cost for that product (price x quantity)"
   ]
  },
  {
   "cell_type": "code",
   "execution_count": null,
   "metadata": {},
   "outputs": [],
   "source": []
  }
 ],
 "metadata": {
  "kernelspec": {
   "display_name": "Python 3 (ipykernel)",
   "language": "python",
   "name": "python3"
  },
  "language_info": {
   "codemirror_mode": {
    "name": "ipython",
    "version": 3
   },
   "file_extension": ".py",
   "mimetype": "text/x-python",
   "name": "python",
   "nbconvert_exporter": "python",
   "pygments_lexer": "ipython3",
   "version": "3.7.7"
  },
  "vscode": {
   "interpreter": {
    "hash": "5109d816b82be14675a6b11f8e0f0d2e80f029176ed3710d54e125caa8520dfd"
   }
  }
 },
 "nbformat": 4,
 "nbformat_minor": 2
}
